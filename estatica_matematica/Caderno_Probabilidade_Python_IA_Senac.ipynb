{
 "cells": [
  {
   "cell_type": "markdown",
   "id": "8ab41f28",
   "metadata": {},
   "source": [
    "\n",
    "# 📘 Caderno de Exercícios – Probabilidade em Python para IA (com soluções)\n",
    "Autor: ChatGPT — GPT-5 Thinking  \n",
    "Descrição: Notebook com **soluções prontas** para 10 exercícios práticos de probabilidade aplicada à IA, incluindo simulações, distribuições e Naive Bayes.\n",
    "\n",
    "> Observação: Execute as células na ordem. Gráficos usam apenas `matplotlib`.\n"
   ]
  },
  {
   "cell_type": "code",
   "execution_count": 1,
   "id": "45aeb0c1",
   "metadata": {},
   "outputs": [
    {
     "name": "stdout",
     "output_type": "stream",
     "text": [
      "Pacotes carregados com sucesso.\n"
     ]
    }
   ],
   "source": [
    "\n",
    "# Imports principais (execute primeiro)\n",
    "import random\n",
    "import math\n",
    "from collections import Counter\n",
    "import numpy as np\n",
    "import matplotlib.pyplot as plt\n",
    "\n",
    "# Bibliotecas de ciência de dados/IA\n",
    "from sklearn.feature_extraction.text import CountVectorizer\n",
    "from sklearn.naive_bayes import MultinomialNB, GaussianNB\n",
    "from sklearn.model_selection import train_test_split\n",
    "from sklearn.datasets import make_classification\n",
    "from sklearn.metrics import roc_curve, auc\n",
    "\n",
    "# Bibliotecas científicas\n",
    "from scipy import stats\n",
    "from scipy import integrate\n",
    "\n",
    "# Reprodutibilidade\n",
    "random.seed(42)\n",
    "np.random.seed(42)\n",
    "\n",
    "print(\"Pacotes carregados com sucesso.\")\n"
   ]
  },
  {
   "cell_type": "markdown",
   "id": "b1f5665d",
   "metadata": {},
   "source": [
    "\n",
    "## Exercício 1 – Sorteio em urna (teórico vs simulação)\n",
    "\n",
    "**Enunciado**: Uma urna contém 3 bolas vermelhas e 2 bolas azuis.  \n",
    "1) Probabilidade teórica de sortear uma bola vermelha.  \n",
    "2) Simule 10.000 sorteios e estime a probabilidade experimental.  \n",
    "3) Compare os resultados.\n"
   ]
  },
  {
   "cell_type": "code",
   "execution_count": 4,
   "id": "b28d186e",
   "metadata": {},
   "outputs": [
    {
     "name": "stdout",
     "output_type": "stream",
     "text": [
      "Probabilidade teórica (vermelha): 0.6000\n",
      "Probabilidade experimental (vermelha): 0.5982\n",
      "Erro absoluto: 0.0018\n"
     ]
    }
   ],
   "source": [
    "\n",
    "# Solução\n",
    "urna = [\"vermelha\"] * 3 + [\"azul\"] * 2\n",
    "\n",
    "# 1) Teórica\n",
    "p_teorica = 3 / 5\n",
    "\n",
    "# 2) Simulação\n",
    "n = 10_000\n",
    "sorteios = [random.choice(urna) for _ in range(n)]\n",
    "p_exp = sorteios.count(\"vermelha\") / n\n",
    "\n",
    "print(f\"Probabilidade teórica (vermelha): {p_teorica:.4f}\")\n",
    "print(f\"Probabilidade experimental (vermelha): {p_exp:.4f}\")\n",
    "print(f\"Erro absoluto: {abs(p_teorica - p_exp):.4f}\")\n"
   ]
  },
  {
   "cell_type": "markdown",
   "id": "74957bd0",
   "metadata": {},
   "source": [
    "\n",
    "## Exercício 2 – Lançamento de dado (par)\n",
    "\n",
    "**Enunciado**: Um dado justo de 6 lados é lançado uma vez.  \n",
    "1) Probabilidade de sair número **par**.  \n",
    "2) Simule 100.000 lançamentos e estime a probabilidade experimental.\n"
   ]
  },
  {
   "cell_type": "code",
   "execution_count": null,
   "id": "41d9a6d2",
   "metadata": {},
   "outputs": [],
   "source": [
    "\n",
    "# Solução\n",
    "lados = [1,2,3,4,5,6]\n",
    "p_teorica = 3 / 6  # {2,4,6}\n",
    "\n",
    "N = 100_000\n",
    "rolagens = np.random.choice(lados, size=N, replace=True)\n",
    "p_exp = np.isin(rolagens, [2,4,6]).mean()\n",
    "\n",
    "print(f\"Probabilidade teórica (par): {p_teorica:.4f}\")\n",
    "print(f\"Probabilidade experimental (par): {p_exp:.4f}\")\n",
    "print(f\"Erro absoluto: {abs(p_teorica - p_exp):.4f}\")\n"
   ]
  },
  {
   "cell_type": "markdown",
   "id": "ba4928a4",
   "metadata": {},
   "source": [
    "\n",
    "## Exercício 3 – Probabilidade condicional com baralho\n",
    "\n",
    "**Enunciado**: Num baralho de 52 cartas, calcule a probabilidade de tirar uma carta **vermelha** dado que é uma **figura** (J, Q, K).  \n",
    "1) Resolva teoricamente.  \n",
    "2) Valide via simulação.\n"
   ]
  },
  {
   "cell_type": "code",
   "execution_count": null,
   "id": "a9bb406f",
   "metadata": {},
   "outputs": [],
   "source": [
    "\n",
    "# Solução\n",
    "naipes_vermelhos = {\"♥\", \"♦\"}\n",
    "naipes_pretos = {\"♣\", \"♠\"}\n",
    "ranks = ['A'] + [str(i) for i in range(2,11)] + ['J','Q','K']\n",
    "naipes = list(naipes_vermelhos | naipes_pretos)\n",
    "baralho = [(r, n) for r in ranks for n in naipes]\n",
    "\n",
    "# Teórica: figuras são J,Q,K (3 por naipe, 12 no total). Metade é vermelha (6).\n",
    "p_teorica = 6 / 12\n",
    "\n",
    "# Simulação: condicionar ao evento \"é figura\"\n",
    "N = 200_000\n",
    "amostras = np.random.choice(len(baralho), size=N, replace=True)\n",
    "figura = [(baralho[i][0] in {'J','Q','K'}) for i in amostras]\n",
    "vermelha = [(baralho[i][1] in naipes_vermelhos) for i in amostras]\n",
    "\n",
    "# P(vermelha | figura) = P(vermelha e figura)/P(figura)\n",
    "fig_e_verm = np.mean([f and v for f, v in zip(figura, vermelha)])\n",
    "p_fig = np.mean(figura)\n",
    "p_exp = fig_e_verm / p_fig\n",
    "\n",
    "print(f\"P(vermelha | figura) teórica: {p_teorica:.4f}\")\n",
    "print(f\"P(vermelha | figura) experimental: {p_exp:.4f}\")\n",
    "print(f\"Erro absoluto: {abs(p_teorica - p_exp):.4f}\")\n"
   ]
  },
  {
   "cell_type": "markdown",
   "id": "a6b558aa",
   "metadata": {},
   "source": [
    "\n",
    "## Exercício 4 – Moeda viciada (Distribuição Binomial)\n",
    "\n",
    "**Enunciado**: Moeda com P(cara)=0,6.  \n",
    "1) Simule 100 lançamentos e conte caras.  \n",
    "2) Repita 1000 vezes.  \n",
    "3) Plote um histograma.\n"
   ]
  },
  {
   "cell_type": "code",
   "execution_count": null,
   "id": "005a293d",
   "metadata": {},
   "outputs": [],
   "source": [
    "\n",
    "# Solução\n",
    "n = 100      # lançamentos por experimento\n",
    "p = 0.6      # prob de cara\n",
    "experimentos = 1000\n",
    "\n",
    "resultados = np.random.binomial(n, p, size=experimentos)\n",
    "\n",
    "print(f\"Média teórica: {n*p:.2f} | Desvio teórico: {math.sqrt(n*p*(1-p)):.2f}\")\n",
    "print(f\"Média simulada: {resultados.mean():.2f} | Desvio simulado: {resultados.std(ddof=1):.2f}\")\n",
    "\n",
    "plt.figure()\n",
    "plt.hist(resultados, bins=20, density=True)\n",
    "plt.title(\"Binomial: nº de caras em 100 lançamentos (1000 repetições)\")\n",
    "plt.xlabel(\"Nº de caras\")\n",
    "plt.ylabel(\"Densidade\")\n",
    "plt.show()\n"
   ]
  },
  {
   "cell_type": "markdown",
   "id": "8965686d",
   "metadata": {},
   "source": [
    "\n",
    "## Exercício 5 – Tempo até o primeiro sucesso (Geométrica)\n",
    "\n",
    "**Enunciado**: Uma lâmpada tem 5% de chance de queimar a cada hora (independente).  \n",
    "1) Modele com distribuição **geométrica**.  \n",
    "2) Simule 10.000 lâmpadas.  \n",
    "3) Calcule a média esperada.\n"
   ]
  },
  {
   "cell_type": "code",
   "execution_count": null,
   "id": "5c506b6d",
   "metadata": {},
   "outputs": [],
   "source": [
    "\n",
    "# Solução\n",
    "p = 0.05  # probabilidade de \"queimar\" por hora\n",
    "amostras = np.random.geometric(p, size=10_000)  # nº de horas até a 1ª queima (1-indexed)\n",
    "\n",
    "media_teorica = 1 / p\n",
    "media_empirica = amostras.mean()\n",
    "\n",
    "print(f\"Média teórica (horas): {media_teorica:.2f}\")\n",
    "print(f\"Média empírica (horas): {media_empirica:.2f}\")\n",
    "\n",
    "plt.figure()\n",
    "plt.hist(amostras, bins=50, density=True)\n",
    "plt.title(\"Distribuição Geométrica (p=0.05) – horas até a 1ª queima\")\n",
    "plt.xlabel(\"Horas\")\n",
    "plt.ylabel(\"Densidade\")\n",
    "plt.show()\n"
   ]
  },
  {
   "cell_type": "markdown",
   "id": "c74a7312",
   "metadata": {},
   "source": [
    "\n",
    "## Exercício 6 – Alturas (Normal)\n",
    "\n",
    "**Enunciado**: Alturas ~ Normal(μ=1.70, σ=0.10).  \n",
    "1) Gere 10.000 amostras.  \n",
    "2) Plote histograma.  \n",
    "3) Probabilidade de altura > 1.80 m?\n"
   ]
  },
  {
   "cell_type": "code",
   "execution_count": null,
   "id": "43bd510b",
   "metadata": {},
   "outputs": [],
   "source": [
    "\n",
    "# Solução\n",
    "mu, sigma = 1.70, 0.10\n",
    "amostras = np.random.normal(mu, sigma, size=10_000)\n",
    "\n",
    "# Probabilidade teórica: 1 - CDF_normal(1.80)\n",
    "p_maior_180 = 1 - stats.norm.cdf(1.80, loc=mu, scale=sigma)\n",
    "print(f\"P(altura > 1.80) teórica: {p_maior_180:.4f}\")\n",
    "\n",
    "plt.figure()\n",
    "plt.hist(amostras, bins=30, density=True)\n",
    "plt.title(\"Alturas ~ Normal(μ=1.70, σ=0.10)\")\n",
    "plt.xlabel(\"Altura (m)\")\n",
    "plt.ylabel(\"Densidade\")\n",
    "plt.show()\n"
   ]
  },
  {
   "cell_type": "markdown",
   "id": "b8683817",
   "metadata": {},
   "source": [
    "\n",
    "## Exercício 7 – Classificação com Naive Bayes (texto)\n",
    "\n",
    "**Enunciado**: Construa um classificador Multinomial Naive Bayes para os emails e classifique `\"trabalho amanhã com promoção\"`.\n"
   ]
  },
  {
   "cell_type": "code",
   "execution_count": null,
   "id": "8a2d6418",
   "metadata": {},
   "outputs": [],
   "source": [
    "\n",
    "# Solução\n",
    "emails = [\n",
    "    \"ganhe dinheiro rápido\",\n",
    "    \"promoção imperdível\",\n",
    "    \"encontro amanhã no trabalho\",\n",
    "    \"relatório do projeto\",\n",
    "    \"desconto exclusivo para você\"\n",
    "]\n",
    "rotulos = [\"spam\", \"spam\", \"não spam\", \"não spam\", \"spam\"]\n",
    "\n",
    "vectorizer = CountVectorizer()\n",
    "X = vectorizer.fit_transform(emails)\n",
    "\n",
    "modelo = MultinomialNB()\n",
    "modelo.fit(X, rotulos)\n",
    "\n",
    "novo_email = [\"trabalho amanhã com promoção\"]\n",
    "X_novo = vectorizer.transform(novo_email)\n",
    "pred = modelo.predict(X_novo)[0]\n",
    "probas = modelo.predict_proba(X_novo)[0]\n",
    "\n",
    "print(\"Vocabulário:\", sorted(vectorizer.vocabulary_.keys()))\n",
    "print(\"Classificação:\", pred)\n",
    "print(\"Probabilidades por classe (na ordem modelo.classes_):\")\n",
    "print(modelo.classes_)\n",
    "print(probas)\n"
   ]
  },
  {
   "cell_type": "markdown",
   "id": "30e7627a",
   "metadata": {},
   "source": [
    "\n",
    "## Exercício 8 – Diagnóstico médico (Bayes)\n",
    "\n",
    "**Enunciado**: Prevalência 1%. Sensibilidade 95%. Especificidade 90%.  \n",
    "1) Calcule P(doença | teste positivo).  \n",
    "2) Simule 100.000 pessoas e valide.\n"
   ]
  },
  {
   "cell_type": "code",
   "execution_count": null,
   "id": "b3bff2af",
   "metadata": {},
   "outputs": [],
   "source": [
    "\n",
    "# Solução\n",
    "\n",
    "preval = 0.01\n",
    "sens = 0.95\n",
    "espec = 0.90\n",
    "\n",
    "# Fórmula de Bayes:\n",
    "# P(D|+) = (sens * preval) / (sens*preval + (1-espec)*(1-preval))\n",
    "p_dado_pos = (sens * preval) / (sens*preval + (1 - espec) * (1 - preval))\n",
    "print(f\"P(doença | positivo) (Bayes): {p_dado_pos:.4f}\")\n",
    "\n",
    "# Simulação\n",
    "N = 100_000\n",
    "tem_doenca = np.random.rand(N) < preval\n",
    "teste_positivo = np.empty(N, dtype=bool)\n",
    "# Quem tem doença: positivo com prob sens\n",
    "teste_positivo[tem_doenca] = np.random.rand(tem_doenca.sum()) < sens\n",
    "# Quem não tem: falso positivo com prob (1 - espec)\n",
    "teste_positivo[~tem_doenca] = np.random.rand((~tem_doenca).sum()) < (1 - espec)\n",
    "\n",
    "p_empirica = tem_doenca[teste_positivo].mean()\n",
    "print(f\"P(doença | positivo) (simulação): {p_empirica:.4f}\")\n",
    "print(f\"Erro absoluto: {abs(p_empirica - p_dado_pos):.4f}\")\n"
   ]
  },
  {
   "cell_type": "markdown",
   "id": "31d7193c",
   "metadata": {},
   "source": [
    "\n",
    "## Exercício 9 – Monte Carlo da área sob a sigmoide\n",
    "\n",
    "**Enunciado**: Estime a integral de `sigm(x)=1/(1+e^{-x})` em [-6, 6] por Monte Carlo e compare com valor numérico.\n"
   ]
  },
  {
   "cell_type": "code",
   "execution_count": null,
   "id": "11fb2790",
   "metadata": {},
   "outputs": [],
   "source": [
    "\n",
    "# Solução\n",
    "def sigm(x):\n",
    "    return 1.0 / (1.0 + np.exp(-x))\n",
    "\n",
    "a, b = -6, 6\n",
    "N = 200_000\n",
    "xs = np.random.uniform(a, b, size=N)\n",
    "mc_est = (b - a) * np.mean(sigm(xs))\n",
    "\n",
    "# Valor \"real\" numérico via quadratura\n",
    "real_val, err_est = integrate.quad(lambda x: 1.0 / (1.0 + np.exp(-x)), a, b)\n",
    "\n",
    "print(f\"Monte Carlo: {mc_est:.6f}\")\n",
    "print(f\"Quadratura (scipy): {real_val:.6f} (erro estimado: {err_est:.2e})\")\n",
    "print(f\"Erro absoluto: {abs(mc_est - real_val):.6f}\")\n",
    "\n",
    "# Visualização da função (opcional)\n",
    "grid = np.linspace(a, b, 400)\n",
    "plt.figure()\n",
    "plt.plot(grid, sigm(grid))\n",
    "plt.title(\"Função Sigmoide em [-6, 6]\")\n",
    "plt.xlabel(\"x\")\n",
    "plt.ylabel(\"sigm(x)\")\n",
    "plt.show()\n"
   ]
  },
  {
   "cell_type": "markdown",
   "id": "f219e234",
   "metadata": {},
   "source": [
    "\n",
    "## Exercício 10 – Projeto: Classificação com Naive Bayes + ROC\n",
    "\n",
    "**Enunciado**:  \n",
    "1) Gere dataset sintético.  \n",
    "2) Treine **GaussianNB**.  \n",
    "3) Probabilidades previstas.  \n",
    "4) Plote curva ROC.\n"
   ]
  },
  {
   "cell_type": "code",
   "execution_count": null,
   "id": "83648c6a",
   "metadata": {},
   "outputs": [],
   "source": [
    "\n",
    "# Solução\n",
    "X, y = make_classification(\n",
    "    n_samples=2000, n_features=8, n_informative=5, n_redundant=1,\n",
    "    n_classes=2, class_sep=1.2, random_state=42\n",
    ")\n",
    "\n",
    "X_train, X_test, y_train, y_test = train_test_split(\n",
    "    X, y, test_size=0.3, random_state=42, stratify=y\n",
    ")\n",
    "\n",
    "gnb = GaussianNB()\n",
    "gnb.fit(X_train, y_train)\n",
    "\n",
    "probas = gnb.predict_proba(X_test)[:, 1]\n",
    "fpr, tpr, thr = roc_curve(y_test, probas)\n",
    "roc_auc = auc(fpr, tpr)\n",
    "\n",
    "print(f\"AUC: {roc_auc:.4f}\")\n",
    "print(\"Exemplo de probabilidades previstas (10 primeiras):\")\n",
    "print(probas[:10])\n",
    "\n",
    "plt.figure()\n",
    "plt.plot(fpr, tpr, label=f\"ROC (AUC = {roc_auc:.3f})\")\n",
    "plt.plot([0,1], [0,1], linestyle='--')\n",
    "plt.title(\"Curva ROC – GaussianNB\")\n",
    "plt.xlabel(\"Falso positivo (FPR)\")\n",
    "plt.ylabel(\"Verdadeiro positivo (TPR)\")\n",
    "plt.legend()\n",
    "plt.show()\n"
   ]
  }
 ],
 "metadata": {
  "kernelspec": {
   "display_name": "Python 3",
   "language": "python",
   "name": "python3"
  },
  "language_info": {
   "codemirror_mode": {
    "name": "ipython",
    "version": 3
   },
   "file_extension": ".py",
   "mimetype": "text/x-python",
   "name": "python",
   "nbconvert_exporter": "python",
   "pygments_lexer": "ipython3",
   "version": "3.12.10"
  }
 },
 "nbformat": 4,
 "nbformat_minor": 5
}
